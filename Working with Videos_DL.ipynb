{
 "cells": [
  {
   "cell_type": "code",
   "execution_count": 1,
   "id": "f61397cf-a529-4c5f-8393-96f0cc046429",
   "metadata": {},
   "outputs": [],
   "source": [
    "import cv2\n",
    "import os\n",
    "from matplotlib import pyplot as plt"
   ]
  },
  {
   "cell_type": "code",
   "execution_count": 2,
   "id": "73cf75eb-74f7-4191-88e7-1ec6f2baf488",
   "metadata": {},
   "outputs": [],
   "source": [
    "cap = cv2.VideoCapture(os.path.join('C:/Users/ArtiMarthak/Downloads/cv/nick/OpenCV-Basics-main/OpenCV-Basics-main/data','istockphoto-1201224615-640_adpp_is.mp4'))"
   ]
  },
  {
   "cell_type": "code",
   "execution_count": 3,
   "id": "dd76ae6e-aec7-403f-8e5b-dcdc5ba9f101",
   "metadata": {},
   "outputs": [],
   "source": [
    "ret,frame = cap.read()"
   ]
  },
  {
   "cell_type": "code",
   "execution_count": 5,
   "id": "cf818882-560c-475a-b006-248673ad8225",
   "metadata": {},
   "outputs": [
    {
     "data": {
      "text/plain": [
       "array([[[252, 252, 252],\n",
       "        [252, 252, 252],\n",
       "        [252, 252, 252],\n",
       "        ...,\n",
       "        [163, 143, 133],\n",
       "        [162, 142, 132],\n",
       "        [162, 142, 132]],\n",
       "\n",
       "       [[252, 252, 252],\n",
       "        [252, 252, 252],\n",
       "        [252, 252, 252],\n",
       "        ...,\n",
       "        [164, 144, 134],\n",
       "        [163, 143, 133],\n",
       "        [163, 143, 133]],\n",
       "\n",
       "       [[252, 252, 252],\n",
       "        [252, 252, 252],\n",
       "        [252, 252, 252],\n",
       "        ...,\n",
       "        [163, 145, 135],\n",
       "        [163, 145, 135],\n",
       "        [163, 145, 135]],\n",
       "\n",
       "       ...,\n",
       "\n",
       "       [[  9,   9,  30],\n",
       "        [ 18,  18,  39],\n",
       "        [ 16,  23,  56],\n",
       "        ...,\n",
       "        [ 78,  75,  69],\n",
       "        [ 78,  75,  69],\n",
       "        [ 78,  75,  69]],\n",
       "\n",
       "       [[  8,  17,  57],\n",
       "        [ 16,  25,  65],\n",
       "        [  9,  23,  76],\n",
       "        ...,\n",
       "        [ 81,  75,  70],\n",
       "        [ 81,  75,  70],\n",
       "        [ 81,  75,  70]],\n",
       "\n",
       "       [[ 15,  24,  64],\n",
       "        [ 23,  32,  72],\n",
       "        [ 11,  25,  78],\n",
       "        ...,\n",
       "        [ 82,  76,  71],\n",
       "        [ 82,  76,  71],\n",
       "        [ 82,  76,  71]]], dtype=uint8)"
      ]
     },
     "execution_count": 5,
     "metadata": {},
     "output_type": "execute_result"
    }
   ],
   "source": [
    "frame"
   ]
  },
  {
   "cell_type": "code",
   "execution_count": 4,
   "id": "738df8da-bd1f-4b0f-93b6-63641c7167be",
   "metadata": {},
   "outputs": [],
   "source": [
    "cv2.imshow('image',cv2.cvtColor(frame,cv2.COLOR_BGR2RGB))"
   ]
  },
  {
   "cell_type": "code",
   "execution_count": 28,
   "id": "c0b78380-d94e-4929-9809-5609c12de0b1",
   "metadata": {},
   "outputs": [],
   "source": [
    "#release capture\n",
    "cap.release()"
   ]
  },
  {
   "cell_type": "code",
   "execution_count": 29,
   "id": "7ce7e503-3fba-450f-8d18-4c7524cc017c",
   "metadata": {},
   "outputs": [
    {
     "data": {
      "text/plain": [
       "(False, None)"
      ]
     },
     "execution_count": 29,
     "metadata": {},
     "output_type": "execute_result"
    }
   ],
   "source": [
    "cap.read()"
   ]
  },
  {
   "cell_type": "code",
   "execution_count": 15,
   "id": "80680e05-ebf9-4425-ad57-0e41ee5836ae",
   "metadata": {},
   "outputs": [
    {
     "data": {
      "text/plain": [
       "360.0"
      ]
     },
     "execution_count": 15,
     "metadata": {},
     "output_type": "execute_result"
    }
   ],
   "source": [
    "#capture properties\n",
    "#height\n",
    "cap.get(cv2.CAP_PROP_FRAME_HEIGHT)"
   ]
  },
  {
   "cell_type": "code",
   "execution_count": 7,
   "id": "50ec5f2a-69bf-43af-b248-0db9c1d32f96",
   "metadata": {},
   "outputs": [
    {
     "data": {
      "text/plain": [
       "640.0"
      ]
     },
     "execution_count": 7,
     "metadata": {},
     "output_type": "execute_result"
    }
   ],
   "source": [
    "#width\n",
    "cap.get(cv2.CAP_PROP_FRAME_WIDTH)"
   ]
  },
  {
   "cell_type": "code",
   "execution_count": 8,
   "id": "2ff47c3f-7dbb-41d6-824e-6f1619de166a",
   "metadata": {},
   "outputs": [
    {
     "data": {
      "text/plain": [
       "197.0"
      ]
     },
     "execution_count": 8,
     "metadata": {},
     "output_type": "execute_result"
    }
   ],
   "source": [
    "#get no.of frames\n",
    "cap.get(cv2.CAP_PROP_FRAME_COUNT)"
   ]
  },
  {
   "cell_type": "code",
   "execution_count": 9,
   "id": "c22363db-aa38-4e22-bf75-b954decbefae",
   "metadata": {},
   "outputs": [
    {
     "data": {
      "text/plain": [
       "25.0"
      ]
     },
     "execution_count": 9,
     "metadata": {},
     "output_type": "execute_result"
    }
   ],
   "source": [
    "#frames per second\n",
    "cap.get(cv2.CAP_PROP_FPS)"
   ]
  },
  {
   "cell_type": "code",
   "execution_count": 10,
   "id": "9f6273c5-cc0d-4ec8-ba04-ce307228309c",
   "metadata": {},
   "outputs": [
    {
     "data": {
      "text/plain": [
       "7.88"
      ]
     },
     "execution_count": 10,
     "metadata": {},
     "output_type": "execute_result"
    }
   ],
   "source": [
    "197/25\n"
   ]
  },
  {
   "cell_type": "code",
   "execution_count": 24,
   "id": "adde6db9-7058-4df2-b652-d02e5240e71c",
   "metadata": {},
   "outputs": [
    {
     "name": "stdout",
     "output_type": "stream",
     "text": [
      "Can't receive frame (stream end?). Exiting ...\n"
     ]
    }
   ],
   "source": [
    "#working with video capture\n",
    "#read video capture\n",
    "import numpy as np\n",
    "import cv2 as cv\n",
    "cap = cv.VideoCapture('C:/Users/ArtiMarthak/Downloads/cv/nick/OpenCV-Basics-main/OpenCV-Basics-main/data/istockphoto-1201224615-640_adpp_is.mp4')\n",
    "while cap.isOpened():\n",
    "    ret, frame = cap.read()\n",
    "    # if frame is read correctly ret is True\n",
    "    if not ret:\n",
    "        print(\"Can't receive frame (stream end?). Exiting ...\")\n",
    "        break\n",
    "    gray = cv.cvtColor(frame, cv.COLOR_BGR2GRAY)\n",
    "    cv.imshow('frame', gray)\n",
    "    if cv.waitKey(1) == ord('q'):\n",
    "        break\n",
    "cap.release()\n",
    "cv.destroyAllWindows()"
   ]
  },
  {
   "cell_type": "code",
   "execution_count": 22,
   "id": "59002bc6-ffb9-408e-807d-0b807d5a1773",
   "metadata": {},
   "outputs": [
    {
     "name": "stdout",
     "output_type": "stream",
     "text": [
      "The video was successfully saved\n"
     ]
    }
   ],
   "source": [
    "#write video capture\n",
    "\n",
    "import numpy as np\n",
    "import cv2 as cv\n",
    "video = cv.VideoCapture('C:/Users/ArtiMarthak/Downloads/cv/nick/OpenCV-Basics-main/OpenCV-Basics-main/data/istockphoto-1201224615-640_adpp_is.mp4')\n",
    "   \n",
    "# Create an object to read \n",
    "# from camera\n",
    "# video = cv2.VideoCapture(0)\n",
    "   \n",
    "# We need to check if camera\n",
    "# is opened previously or not\n",
    "if (video.isOpened() == False): \n",
    "    print(\"Error reading video file\")\n",
    "  \n",
    "#We need to set resolutions.\n",
    "# so, convert them from float to integer.\n",
    "frame_width = int(video.get(3))\n",
    "frame_height = int(video.get(4))\n",
    "   \n",
    "size = (frame_width, frame_height)\n",
    "   \n",
    "# Below VideoWriter object will create\n",
    "# a frame of above defined The output \n",
    "# is stored in 'filename.avi' file.\n",
    "result = cv2.VideoWriter('C:/Users/ArtiMarthak/Downloads/cv/nick/OpenCV-Basics-main/OpenCV-Basics-main/data/filename.avi', \n",
    "                         cv2.VideoWriter_fourcc(*'MJPG'),\n",
    "                         10, size)\n",
    "    \n",
    "while(True):\n",
    "    ret, frame = video.read()\n",
    "    if ret == True: \n",
    "        # Write the frame into the\n",
    "        # file 'filename.avi'\n",
    "        result.write(frame)\n",
    "  \n",
    "        # Display the frame\n",
    "        # saved in the file\n",
    "        cv2.imshow('Frame', frame)\n",
    "  \n",
    "        # Press S on keyboard \n",
    "        # to stop the process\n",
    "        if cv2.waitKey(1) & 0xFF == ord('s'):\n",
    "            break\n",
    "    # Break the loop\n",
    "    else:\n",
    "        break\n",
    "  \n",
    "# When everything done, release \n",
    "# the video capture and video \n",
    "# write objects\n",
    "video.release()\n",
    "result.release()\n",
    "    \n",
    "# Closes all the frames\n",
    "cv2.destroyAllWindows()\n",
    "   \n",
    "print(\"The video was successfully saved\")"
   ]
  },
  {
   "cell_type": "code",
   "execution_count": null,
   "id": "7830263d-6727-4f9d-a3c5-8d2bd158d886",
   "metadata": {},
   "outputs": [],
   "source": []
  },
  {
   "cell_type": "code",
   "execution_count": null,
   "id": "d676cda6-b734-4467-94ac-322b5cde0eb6",
   "metadata": {},
   "outputs": [],
   "source": []
  }
 ],
 "metadata": {
  "kernelspec": {
   "display_name": "Python 3 (ipykernel)",
   "language": "python",
   "name": "python3"
  },
  "language_info": {
   "codemirror_mode": {
    "name": "ipython",
    "version": 3
   },
   "file_extension": ".py",
   "mimetype": "text/x-python",
   "name": "python",
   "nbconvert_exporter": "python",
   "pygments_lexer": "ipython3",
   "version": "3.9.7"
  }
 },
 "nbformat": 4,
 "nbformat_minor": 5
}
